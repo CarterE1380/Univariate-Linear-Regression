{
 "cells": [
  {
   "cell_type": "markdown",
   "metadata": {},
   "source": [
    "# Lab Statement\n",
    "This lab examines the univarate relationship between the weight of the brain and size of the head through using Linear Regression Data Analysis and SciKit-Learn."
   ]
  },
  {
   "cell_type": "markdown",
   "metadata": {},
   "source": [
    "# Objectives\n",
    "- Create a professional looking Jupyter Notebook\n",
    "- Use Pandas and Pandas Dataframes to Import Data\n",
    "- Use SciKitLearn and NumPy modules\n",
    "- Perform Linear Regression Analysis with Imported Data\n",
    "- Use the MatPlotLib plotting module to plot data\n",
    "- Use the Regression Model to Make Predictions"
   ]
  },
  {
   "cell_type": "markdown",
   "metadata": {},
   "source": [
    "# Linear Regression\n",
    "Linear Regression attempts to model the relationship between two variables by fitting a linear equation to obeserved data. One variable (usually X) is considered to be an explantory (independent or input) variable, and the other variable (usually Y) is considered to be the dependent variable. Simple Linear Regression has an equation in the form of **Y = aX + b**, where **X** is the explanatory variable and **Y** is the dependent variable. The **Slope** of the line is **a**, and the **Intercept** is **b** (the value of y when x = 0). Linear Regression is powerful and is one of the most commonly used machine learning algorithms because of its ability to predict the target variable using linear combinations of predictor variables."
   ]
  },
  {
   "cell_type": "markdown",
   "metadata": {},
   "source": [
    "# Preliminary Data Analysis"
   ]
  },
  {
   "cell_type": "markdown",
   "metadata": {},
   "source": [
    "## Importing the Essentials"
   ]
  },
  {
   "cell_type": "code",
   "execution_count": 1,
   "metadata": {},
   "outputs": [],
   "source": [
    "#Importing MatPlotLib\n",
    "%matplotlib inline\n",
    "import matplotlib.pyplot as plt\n",
    "\n",
    "#Importing NumPy\n",
    "import numpy as np\n",
    "\n",
    "#Importing Pandas\n",
    "import pandas as pd"
   ]
  },
  {
   "cell_type": "markdown",
   "metadata": {},
   "source": [
    "## Information About the Dataset\n",
    "***Source:*** R.J. Gladstone (1905). \"A Study of the Relations of the Brain to to the Size of the Head\", Biometrika, Vol. 4, pp105-123\n",
    "\n",
    "***Description:*** Brain weight (grams) and head size (cubic cm) for 237 adults classified by gender and age group.\n",
    "\n",
    "***Variables/Columns:***\n",
    "- Gender (1=Male, 2=Female)\n",
    "- Age Range (1=20-46, 2=46+)\n",
    "- Head size (cm^3)\n",
    "- Brain weight (grams)"
   ]
  },
  {
   "cell_type": "markdown",
   "metadata": {},
   "source": [
    "## Loading the Dataset in a Pandas Dataframe"
   ]
  },
  {
   "cell_type": "code",
   "execution_count": 2,
   "metadata": {},
   "outputs": [
    {
     "data": {
      "text/html": [
       "<div>\n",
       "<style scoped>\n",
       "    .dataframe tbody tr th:only-of-type {\n",
       "        vertical-align: middle;\n",
       "    }\n",
       "\n",
       "    .dataframe tbody tr th {\n",
       "        vertical-align: top;\n",
       "    }\n",
       "\n",
       "    .dataframe thead th {\n",
       "        text-align: right;\n",
       "    }\n",
       "</style>\n",
       "<table border=\"1\" class=\"dataframe\">\n",
       "  <thead>\n",
       "    <tr style=\"text-align: right;\">\n",
       "      <th></th>\n",
       "      <th>gender</th>\n",
       "      <th>age-group</th>\n",
       "      <th>head-size</th>\n",
       "      <th>brain-weight</th>\n",
       "    </tr>\n",
       "  </thead>\n",
       "  <tbody>\n",
       "    <tr>\n",
       "      <th>232</th>\n",
       "      <td>2</td>\n",
       "      <td>2</td>\n",
       "      <td>3214</td>\n",
       "      <td>1110</td>\n",
       "    </tr>\n",
       "    <tr>\n",
       "      <th>233</th>\n",
       "      <td>2</td>\n",
       "      <td>2</td>\n",
       "      <td>3394</td>\n",
       "      <td>1215</td>\n",
       "    </tr>\n",
       "    <tr>\n",
       "      <th>234</th>\n",
       "      <td>2</td>\n",
       "      <td>2</td>\n",
       "      <td>3233</td>\n",
       "      <td>1104</td>\n",
       "    </tr>\n",
       "    <tr>\n",
       "      <th>235</th>\n",
       "      <td>2</td>\n",
       "      <td>2</td>\n",
       "      <td>3352</td>\n",
       "      <td>1170</td>\n",
       "    </tr>\n",
       "    <tr>\n",
       "      <th>236</th>\n",
       "      <td>2</td>\n",
       "      <td>2</td>\n",
       "      <td>3391</td>\n",
       "      <td>1120</td>\n",
       "    </tr>\n",
       "  </tbody>\n",
       "</table>\n",
       "</div>"
      ],
      "text/plain": [
       "     gender  age-group  head-size  brain-weight\n",
       "232       2          2       3214          1110\n",
       "233       2          2       3394          1215\n",
       "234       2          2       3233          1104\n",
       "235       2          2       3352          1170\n",
       "236       2          2       3391          1120"
      ]
     },
     "execution_count": 2,
     "metadata": {},
     "output_type": "execute_result"
    }
   ],
   "source": [
    "df = pd.read_csv('data/dataset_brain.txt',\n",
    "                  encoding = 'utf-8',\n",
    "                  comment = '#',\n",
    "                  sep = '\\s+')\n",
    "\n",
    "df.tail()"
   ]
  },
  {
   "cell_type": "markdown",
   "metadata": {},
   "source": [
    "## Summary of Descriptive Statistics "
   ]
  },
  {
   "cell_type": "markdown",
   "metadata": {},
   "source": [
    "### Summary of \"Head Size\" Data"
   ]
  },
  {
   "cell_type": "code",
   "execution_count": 3,
   "metadata": {},
   "outputs": [
    {
     "data": {
      "text/plain": [
       "count     237.000000\n",
       "mean     3633.991561\n",
       "std       365.261422\n",
       "min      2720.000000\n",
       "25%      3389.000000\n",
       "50%      3614.000000\n",
       "75%      3876.000000\n",
       "max      4747.000000\n",
       "Name: head-size, dtype: float64"
      ]
     },
     "execution_count": 3,
     "metadata": {},
     "output_type": "execute_result"
    }
   ],
   "source": [
    "df['head-size'].describe()"
   ]
  },
  {
   "cell_type": "markdown",
   "metadata": {},
   "source": [
    "### Summary of \"Brain Weight\" Data"
   ]
  },
  {
   "cell_type": "code",
   "execution_count": 4,
   "metadata": {},
   "outputs": [
    {
     "data": {
      "text/plain": [
       "count     237.000000\n",
       "mean     1282.873418\n",
       "std       120.340446\n",
       "min       955.000000\n",
       "25%      1207.000000\n",
       "50%      1280.000000\n",
       "75%      1350.000000\n",
       "max      1635.000000\n",
       "Name: brain-weight, dtype: float64"
      ]
     },
     "execution_count": 4,
     "metadata": {},
     "output_type": "execute_result"
    }
   ],
   "source": [
    "df['brain-weight'].describe()"
   ]
  },
  {
   "cell_type": "markdown",
   "metadata": {},
   "source": [
    "## Examine Data for Staistical Correlations of Features"
   ]
  },
  {
   "cell_type": "code",
   "execution_count": 5,
   "metadata": {},
   "outputs": [
    {
     "data": {
      "text/html": [
       "<div>\n",
       "<style scoped>\n",
       "    .dataframe tbody tr th:only-of-type {\n",
       "        vertical-align: middle;\n",
       "    }\n",
       "\n",
       "    .dataframe tbody tr th {\n",
       "        vertical-align: top;\n",
       "    }\n",
       "\n",
       "    .dataframe thead th {\n",
       "        text-align: right;\n",
       "    }\n",
       "</style>\n",
       "<table border=\"1\" class=\"dataframe\">\n",
       "  <thead>\n",
       "    <tr style=\"text-align: right;\">\n",
       "      <th></th>\n",
       "      <th>gender</th>\n",
       "      <th>age-group</th>\n",
       "      <th>head-size</th>\n",
       "      <th>brain-weight</th>\n",
       "    </tr>\n",
       "  </thead>\n",
       "  <tbody>\n",
       "    <tr>\n",
       "      <th>gender</th>\n",
       "      <td>1.000000</td>\n",
       "      <td>-0.088652</td>\n",
       "      <td>-0.514050</td>\n",
       "      <td>-0.465266</td>\n",
       "    </tr>\n",
       "    <tr>\n",
       "      <th>age-group</th>\n",
       "      <td>-0.088652</td>\n",
       "      <td>1.000000</td>\n",
       "      <td>-0.105428</td>\n",
       "      <td>-0.169438</td>\n",
       "    </tr>\n",
       "    <tr>\n",
       "      <th>head-size</th>\n",
       "      <td>-0.514050</td>\n",
       "      <td>-0.105428</td>\n",
       "      <td>1.000000</td>\n",
       "      <td>0.799570</td>\n",
       "    </tr>\n",
       "    <tr>\n",
       "      <th>brain-weight</th>\n",
       "      <td>-0.465266</td>\n",
       "      <td>-0.169438</td>\n",
       "      <td>0.799570</td>\n",
       "      <td>1.000000</td>\n",
       "    </tr>\n",
       "  </tbody>\n",
       "</table>\n",
       "</div>"
      ],
      "text/plain": [
       "                gender  age-group  head-size  brain-weight\n",
       "gender        1.000000  -0.088652  -0.514050     -0.465266\n",
       "age-group    -0.088652   1.000000  -0.105428     -0.169438\n",
       "head-size    -0.514050  -0.105428   1.000000      0.799570\n",
       "brain-weight -0.465266  -0.169438   0.799570      1.000000"
      ]
     },
     "execution_count": 5,
     "metadata": {},
     "output_type": "execute_result"
    }
   ],
   "source": [
    "df.corr()"
   ]
  },
  {
   "cell_type": "markdown",
   "metadata": {},
   "source": [
    "## Plot Data Showing *High* Correlation"
   ]
  },
  {
   "cell_type": "code",
   "execution_count": 6,
   "metadata": {},
   "outputs": [
    {
     "data": {
      "image/png": "[encoded data removed]",
      "text/plain": [
       "<Figure size 432x288 with 1 Axes>"
      ]
     },
     "metadata": {
      "needs_background": "light"
     },
     "output_type": "display_data"
    }
   ],
   "source": [
    "plt.scatter(df['head-size'], df['brain-weight'])\n",
    "plt.title('Head Size vs. Brain Weight')\n",
    "plt.xlabel('Head size(cm^3)')\n",
    "plt.ylabel('Brain weight (grams)');"
   ]
  },
  {
   "cell_type": "markdown",
   "metadata": {},
   "source": [
    "# Preparing the Dataset for the Split"
   ]
  },
  {
   "cell_type": "markdown",
   "metadata": {},
   "source": [
    "## Preparation for Model Building"
   ]
  },
  {
   "cell_type": "code",
   "execution_count": 7,
   "metadata": {},
   "outputs": [
    {
     "data": {
      "text/plain": [
       "(237,)"
      ]
     },
     "execution_count": 7,
     "metadata": {},
     "output_type": "execute_result"
    }
   ],
   "source": [
    "y = df['brain-weight'].values\n",
    "y.shape"
   ]
  },
  {
   "cell_type": "markdown",
   "metadata": {},
   "source": [
    "## Adding Another Axis\n",
    "SciKitLearn and NumPy expect the data to be 2 Dimensional, so we need to add another axis to the data. The **newaxis** object can be used in all slicing operations to create and axis of length one. Each newaxis object in the selection tuple serves to expand the dimensions of the selection by one unit-length dimension. Newaxis is an alias for *None* and *None* can be used in place of this with the same result."
   ]
  },
  {
   "cell_type": "code",
   "execution_count": 8,
   "metadata": {},
   "outputs": [
    {
     "data": {
      "text/plain": [
       "(237, 1)"
      ]
     },
     "execution_count": 8,
     "metadata": {},
     "output_type": "execute_result"
    }
   ],
   "source": [
    "X = df['head-size'].values\n",
    "X = X.reshape(237,1)\n",
    "#X = X[:, np.newaxis] <--This command (used often) will do the same thing as the command above\n",
    "X.shape"
   ]
  },
  {
   "cell_type": "markdown",
   "metadata": {},
   "source": [
    "## Resizing NumPy Arrays (Aside)"
   ]
  },
  {
   "cell_type": "code",
   "execution_count": 9,
   "metadata": {},
   "outputs": [
    {
     "name": "stdout",
     "output_type": "stream",
     "text": [
      "The shape of the array A is (3,) and of array C is (3,): \n",
      "[1 2 3]\n",
      "[4 5 6]\n",
      "\n",
      "Now add a dimension to both arrays using two different methods\n",
      "\n",
      "Now the shape of Array B is (3, 1) and of Array D is (3, 1):\n",
      "[[1]\n",
      " [2]\n",
      " [3]]\n",
      "[[4]\n",
      " [5]\n",
      " [6]]\n"
     ]
    }
   ],
   "source": [
    "#Import NumPy\n",
    "import numpy as np\n",
    "\n",
    "#Create 2 Dimensional Array (1 Row and 3 Columns)\n",
    "A = np.array([1, 2, 3])\n",
    "C = np.array([4, 5, 6])\n",
    "print('The shape of the array A is {0} and of array C is {1}: '.format(A.shape, C.shape))\n",
    "print(A)\n",
    "print(C)\n",
    "print()\n",
    "print('Now add a dimension to both arrays using two different methods')\n",
    "print()\n",
    "#Array B uses the \"newaxis\" command\n",
    "B = A[:, np.newaxis]\n",
    "#Array D uses the \"reshape\" command\n",
    "D = C.reshape(3,1)\n",
    "print('Now the shape of Array B is {0} and of Array D is {1}:'.format(B.shape, D.shape))\n",
    "print(B)\n",
    "print(D)"
   ]
  },
  {
   "cell_type": "markdown",
   "metadata": {},
   "source": [
    "# Splitting the Data"
   ]
  },
  {
   "cell_type": "markdown",
   "metadata": {},
   "source": [
    "## Train/Test Split of the Dataset\n",
    "SciKitLearn contains a function called the **train_test_split** that will randomly shuffle the dataset and then split it into two datasets: a **training set** used to build to model and **test set** to assess and evaluate how well the model works on unseen data (also known as *out of sample* data). The **train_test_split** funcion by default does a **75%/25%** train/test test split by the split can be modified by tuning the parameters of the function as indicated below...\n",
    "\n",
    "<img src='images/train_test_split_image.PNG' width=500; height=300>"
   ]
  },
  {
   "cell_type": "code",
   "execution_count": 10,
   "metadata": {},
   "outputs": [
    {
     "name": "stdout",
     "output_type": "stream",
     "text": [
      "(177, 1)\n",
      "(177,)\n",
      "(60, 1)\n",
      "(60,)\n"
     ]
    }
   ],
   "source": [
    "#Import the Train_Test_Split from SciKitLearn\n",
    "from sklearn.model_selection import train_test_split\n",
    "\n",
    "#Split the Data\n",
    "X_train, X_test, y_train, y_test = train_test_split(\n",
    "    X, y, test_size = 0.25, random_state = 100)\n",
    "\n",
    "#Check the shapes of the Testing Set and the Training Set to make sure everything went ok\n",
    "print(X_train.shape)\n",
    "print(y_train.shape)\n",
    "print(X_test.shape)\n",
    "print(y_test.shape)"
   ]
  },
  {
   "cell_type": "markdown",
   "metadata": {},
   "source": [
    "### What Did This Split Do?\n",
    "- Model can be trained and tested on **different data**\n",
    "- Responsible values (y) are known for the testing set\n",
    "- **Testing Accuracy** is a better estimate than training accuracy of out-of-sample performance"
   ]
  },
  {
   "cell_type": "markdown",
   "metadata": {},
   "source": [
    "## Creating a Graph to Visually Check the Split"
   ]
  },
  {
   "cell_type": "code",
   "execution_count": 11,
   "metadata": {},
   "outputs": [
    {
     "data": {
      "text/plain": [
       "Text(0, 0.5, 'Brain Weight (grams)')"
      ]
     },
     "execution_count": 11,
     "metadata": {},
     "output_type": "execute_result"
    },
    {
     "data": {
      "image/png": "[encoded data removed]",
      "text/plain": [
       "<Figure size 432x288 with 1 Axes>"
      ]
     },
     "metadata": {
      "needs_background": "light"
     },
     "output_type": "display_data"
    }
   ],
   "source": [
    "#Data\n",
    "plt.scatter(X_train, y_train, c = 'blue', marker = 'o', label = \"Training Set\")\n",
    "plt.scatter(X_test, y_test, c = 'red', marker = 's', label = \"Testing Set'\")\n",
    "\n",
    "#Title\n",
    "plt.title('Testing Set of Data vs Training Set of Data')\n",
    "\n",
    "#Legend\n",
    "plt.legend(loc = 'upper left')\n",
    "\n",
    "#Axes\n",
    "plt.xlabel('Head Size (cm^3)')\n",
    "plt.ylabel('Brain Weight (grams)')"
   ]
  },
  {
   "cell_type": "markdown",
   "metadata": {},
   "source": [
    "## What Did We Learn?\n",
    "The data trends show that the brain weight increases as we move to larger head sizes. A general relationship between circumfrence and brain weight is believed to exist, but research shows that brain weight is proportional to the cube of the head circumfrence from birth through age 3.5. \n",
    "\n",
    "Let's use the raw data to...\n",
    "1. Find the Best Fit for the Data\n",
    "2. Create a model from the Best Fit Parameters\n",
    "3. Testing the Model Predictive Capability with New Data\n",
    "4. Evaluating the Model's Performance"
   ]
  },
  {
   "cell_type": "markdown",
   "metadata": {},
   "source": [
    "# Fitting The Model"
   ]
  },
  {
   "cell_type": "markdown",
   "metadata": {},
   "source": [
    "## Linear Regression Fit\n",
    "1. Instantiate the Linear Regression class from the SciKitLearn module\n",
    "2. Fit the model only using the ***training data***"
   ]
  },
  {
   "cell_type": "code",
   "execution_count": 12,
   "metadata": {},
   "outputs": [
    {
     "data": {
      "text/plain": [
       "LinearRegression()"
      ]
     },
     "execution_count": 12,
     "metadata": {},
     "output_type": "execute_result"
    }
   ],
   "source": [
    "#Import SciKitLearn's Linear Model\n",
    "from sklearn.linear_model import LinearRegression\n",
    "\n",
    "#Instantiate the Class (Object)\n",
    "lr = LinearRegression()\n",
    "\n",
    "#Call the Fit Method\n",
    "lr.fit(X_train, y_train)"
   ]
  },
  {
   "cell_type": "markdown",
   "metadata": {},
   "source": [
    "## Generating Predictions\n",
    "Let's generate the predictions (through using an array) based on the Testing Data as an input"
   ]
  },
  {
   "cell_type": "code",
   "execution_count": 13,
   "metadata": {},
   "outputs": [],
   "source": [
    "y_pred = lr.predict(X_test)"
   ]
  },
  {
   "cell_type": "markdown",
   "metadata": {},
   "source": [
    "# Evaluating the Model"
   ]
  },
  {
   "cell_type": "markdown",
   "metadata": {},
   "source": [
    "## The \"Brute Force\" Scoring Method"
   ]
  },
  {
   "cell_type": "code",
   "execution_count": 14,
   "metadata": {},
   "outputs": [
    {
     "name": "stdout",
     "output_type": "stream",
     "text": [
      "The R2 Score is: 0.612\n"
     ]
    }
   ],
   "source": [
    "sum_of_squares = ((y_test - y_pred)**2).sum()\n",
    "res_sum_of_squares = ((y_test - y_test.mean())**2).sum()\n",
    "r2_score = 1 - (sum_of_squares/res_sum_of_squares)\n",
    "print('The R2 Score is: {0:.3f}'.format (r2_score))"
   ]
  },
  {
   "cell_type": "markdown",
   "metadata": {},
   "source": [
    "## SciKitLearn's Built-In Scoring Method"
   ]
  },
  {
   "cell_type": "code",
   "execution_count": 15,
   "metadata": {},
   "outputs": [
    {
     "name": "stdout",
     "output_type": "stream",
     "text": [
      "The R2 score is: 0.612\n"
     ]
    }
   ],
   "source": [
    "print('The R2 score is: {0:0.3f}'.format(lr.score(X_test, y_test)))"
   ]
  },
  {
   "cell_type": "markdown",
   "metadata": {},
   "source": [
    "# Building The Predictive Model\n",
    "The first things we need to build the model are the slope and intercept. The code used to get these values is shown below:"
   ]
  },
  {
   "cell_type": "markdown",
   "metadata": {},
   "source": [
    "## Finding the Slope"
   ]
  },
  {
   "cell_type": "code",
   "execution_count": 16,
   "metadata": {},
   "outputs": [
    {
     "data": {
      "text/plain": [
       "array([0.27465969])"
      ]
     },
     "execution_count": 16,
     "metadata": {},
     "output_type": "execute_result"
    }
   ],
   "source": [
    "slope = lr.coef_\n",
    "slope"
   ]
  },
  {
   "cell_type": "markdown",
   "metadata": {},
   "source": [
    "## Finding the Intercept"
   ]
  },
  {
   "cell_type": "code",
   "execution_count": 17,
   "metadata": {},
   "outputs": [
    {
     "data": {
      "text/plain": [
       "289.2821710467691"
      ]
     },
     "execution_count": 17,
     "metadata": {},
     "output_type": "execute_result"
    }
   ],
   "source": [
    "intercept = lr.intercept_\n",
    "intercept"
   ]
  },
  {
   "cell_type": "markdown",
   "metadata": {},
   "source": [
    "## The Final Model\n",
    "Now that we have the slope and the intercept, it's time to build the model. In the end, we'll use the model to create data to be plotted in our training set..."
   ]
  },
  {
   "cell_type": "code",
   "execution_count": 18,
   "metadata": {},
   "outputs": [],
   "source": [
    "y_fit = slope*X_train + intercept\n",
    "#y_fit"
   ]
  },
  {
   "cell_type": "markdown",
   "metadata": {},
   "source": [
    "### Brain_Weight = (0.274 * Head_Size) + 289.3"
   ]
  },
  {
   "cell_type": "markdown",
   "metadata": {},
   "source": [
    "# Creating a Comparison Graph\n",
    "In order to figure out how effective our model and fitted data is compared to the original raw data, we need to create a graph that has both the raw data and fitted data on it. The code and results can be seen below:"
   ]
  },
  {
   "cell_type": "code",
   "execution_count": 19,
   "metadata": {},
   "outputs": [
    {
     "data": {
      "image/png": "[encoded data removed]",
      "text/plain": [
       "<Figure size 560x560 with 1 Axes>"
      ]
     },
     "metadata": {
      "needs_background": "light"
     },
     "output_type": "display_data"
    }
   ],
   "source": [
    "#Define the Plot Size (Inches) + Resolution (DPI)\n",
    "fig = plt.figure(figsize = (4, 4), dpi = 140)\n",
    "plt.scatter(X_train, y_train, c = 'blue', marker = '.', label = 'Raw Data')\n",
    "plt.plot(X_train, y_fit, linestyle = 'dashed', marker = '.', color = 'red', label = 'Linear Regression Fit')\n",
    "plt.plot\n",
    "\n",
    "#Labels\n",
    "plt.xlabel(\"Head Size (cm^3)\")\n",
    "plt.ylabel(\"Brain Weight (Grams)\")\n",
    "\n",
    "#Legend\n",
    "plt.legend(loc=\"upper left\")\n",
    "\n",
    "#Show Plot\n",
    "plt.show()"
   ]
  },
  {
   "cell_type": "markdown",
   "metadata": {},
   "source": [
    "## Description of the Graph and Summary"
   ]
  },
  {
   "cell_type": "markdown",
   "metadata": {},
   "source": [
    "This graph is telling us that there is a positive correlation between brain weight and head size. More specifically, the equation above (line of best fit) is telling us that the ***predicted brain weight for people will increase by 0.274 grams per cubic centimeter increase in head size*** as they grow.\n",
    "\n",
    "We must be careful when using the model that was created becuase it only had an R2 value of 0.612 (about a 61% accuracy rate). This means that the fit to the data was relatively poor."
   ]
  },
  {
   "cell_type": "code",
   "execution_count": null,
   "metadata": {},
   "outputs": [],
   "source": []
  }
 ],
 "metadata": {
  "kernelspec": {
   "display_name": "Python 3",
   "language": "python",
   "name": "python3"
  },
  "language_info": {
   "codemirror_mode": {
    "name": "ipython",
    "version": 3
   },
   "file_extension": ".py",
   "mimetype": "text/x-python",
   "name": "python",
   "nbconvert_exporter": "python",
   "pygments_lexer": "ipython3",
   "version": "3.8.3"
  }
 },
 "nbformat": 4,
 "nbformat_minor": 4
}
